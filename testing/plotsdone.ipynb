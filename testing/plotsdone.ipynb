{
 "cells": [
  {
   "cell_type": "code",
   "execution_count": 1,
   "metadata": {},
   "outputs": [
    {
     "data": {
      "text/plain": [
       "'2.2.3'"
      ]
     },
     "execution_count": 1,
     "metadata": {},
     "output_type": "execute_result"
    }
   ],
   "source": [
    "%matplotlib inline\n",
    "from matplotlib import pyplot as plt\n",
    "import matplotlib\n",
    "import seaborn as sns\n",
    "sns.set_style(\"ticks\")\n",
    "sns.set_context(\"paper\", font_scale=1.5, rc={\"lines.linewidth\": 2.0})\n",
    "\n",
    "import os\n",
    "import re\n",
    "import pandas as pd\n",
    "import numpy as np\n",
    "import shutil\n",
    "import subprocess\n",
    "import multiprocessing\n",
    "import re\n",
    "import cantera as ct\n",
    "\n",
    "matplotlib.__version__"
   ]
  },
  {
   "cell_type": "code",
   "execution_count": 2,
   "metadata": {},
   "outputs": [
    {
     "data": {
      "image/png": "[encoded data removed]",
      "text/plain": [
       "<Figure size 432x288 with 1 Axes>"
      ]
     },
     "metadata": {},
     "output_type": "display_data"
    },
    {
     "data": {
      "text/plain": [
       "array([[[-7.5   , -7.5   , -7.5   , -7.5   , -7.5   , -7.5   , -7.5   ,\n",
       "         -7.5   , -7.5   ],\n",
       "        [-6.8125, -6.8125, -6.8125, -6.8125, -6.8125, -6.8125, -6.8125,\n",
       "         -6.8125, -6.8125],\n",
       "        [-6.125 , -6.125 , -6.125 , -6.125 , -6.125 , -6.125 , -6.125 ,\n",
       "         -6.125 , -6.125 ],\n",
       "        [-5.4375, -5.4375, -5.4375, -5.4375, -5.4375, -5.4375, -5.4375,\n",
       "         -5.4375, -5.4375],\n",
       "        [-4.75  , -4.75  , -4.75  , -4.75  , -4.75  , -4.75  , -4.75  ,\n",
       "         -4.75  , -4.75  ],\n",
       "        [-4.0625, -4.0625, -4.0625, -4.0625, -4.0625, -4.0625, -4.0625,\n",
       "         -4.0625, -4.0625],\n",
       "        [-3.375 , -3.375 , -3.375 , -3.375 , -3.375 , -3.375 , -3.375 ,\n",
       "         -3.375 , -3.375 ],\n",
       "        [-2.6875, -2.6875, -2.6875, -2.6875, -2.6875, -2.6875, -2.6875,\n",
       "         -2.6875, -2.6875],\n",
       "        [-2.    , -2.    , -2.    , -2.    , -2.    , -2.    , -2.    ,\n",
       "         -2.    , -2.    ]],\n",
       "\n",
       "       [[-6.5   , -5.875 , -5.25  , -4.625 , -4.    , -3.375 , -2.75  ,\n",
       "         -2.125 , -1.5   ],\n",
       "        [-6.5   , -5.875 , -5.25  , -4.625 , -4.    , -3.375 , -2.75  ,\n",
       "         -2.125 , -1.5   ],\n",
       "        [-6.5   , -5.875 , -5.25  , -4.625 , -4.    , -3.375 , -2.75  ,\n",
       "         -2.125 , -1.5   ],\n",
       "        [-6.5   , -5.875 , -5.25  , -4.625 , -4.    , -3.375 , -2.75  ,\n",
       "         -2.125 , -1.5   ],\n",
       "        [-6.5   , -5.875 , -5.25  , -4.625 , -4.    , -3.375 , -2.75  ,\n",
       "         -2.125 , -1.5   ],\n",
       "        [-6.5   , -5.875 , -5.25  , -4.625 , -4.    , -3.375 , -2.75  ,\n",
       "         -2.125 , -1.5   ],\n",
       "        [-6.5   , -5.875 , -5.25  , -4.625 , -4.    , -3.375 , -2.75  ,\n",
       "         -2.125 , -1.5   ],\n",
       "        [-6.5   , -5.875 , -5.25  , -4.625 , -4.    , -3.375 , -2.75  ,\n",
       "         -2.125 , -1.5   ],\n",
       "        [-6.5   , -5.875 , -5.25  , -4.625 , -4.    , -3.375 , -2.75  ,\n",
       "         -2.125 , -1.5   ]]])"
      ]
     },
     "execution_count": 2,
     "metadata": {},
     "output_type": "execute_result"
    }
   ],
   "source": [
    "carbon_range = (-7.5, -2)\n",
    "oxygen_range = (-6.5, -1.5)\n",
    "grid_size = 9\n",
    "mesh  = np.mgrid[carbon_range[0]:carbon_range[1]:grid_size*1j, \n",
    "                 oxygen_range[0]:oxygen_range[1]:grid_size*1j]\n",
    "\n",
    "with sns.axes_style(\"whitegrid\"):\n",
    "    plt.axis('square')\n",
    "    plt.xlim(carbon_range)\n",
    "    plt.ylim(oxygen_range)\n",
    "plt.show()\n",
    "    \n",
    "mesh"
   ]
  },
  {
   "cell_type": "code",
   "execution_count": 3,
   "metadata": {},
   "outputs": [
    {
     "data": {
      "image/png": "[encoded data removed]",
      "text/plain": [
       "<Figure size 432x288 with 1 Axes>"
      ]
     },
     "metadata": {},
     "output_type": "display_data"
    }
   ],
   "source": [
    "experiments = mesh.reshape((2,-1)).T\n",
    "\n",
    "with sns.axes_style(\"whitegrid\"):\n",
    "    plt.axis('square')\n",
    "    plt.xlim(carbon_range)\n",
    "    plt.ylim(oxygen_range)\n",
    "    plt.plot(*experiments.T, marker='o', linestyle='none')"
   ]
  },
  {
   "cell_type": "code",
   "execution_count": 4,
   "metadata": {
    "collapsed": true
   },
   "outputs": [],
   "source": [
    "extent = carbon_range + oxygen_range\n",
    "\n",
    "# Because the center of a corner pixel is in fact the corner of the grid# Becaus \n",
    "# we want to stretch the image a little\n",
    "c_step = mesh[0,1,0]-mesh[0,0,0]\n",
    "o_step = mesh[1,0,1]-mesh[1,0,0]\n",
    "carbon_range2 = (carbon_range[0]-c_step/2, carbon_range[1]+c_step/2)\n",
    "oxygen_range2 = (oxygen_range[0]-c_step/2, oxygen_range[1]+c_step/2)\n",
    "extent2 = carbon_range2 + oxygen_range2"
   ]
  },
  {
   "cell_type": "code",
   "execution_count": 5,
   "metadata": {},
   "outputs": [
    {
     "name": "stdout",
     "output_type": "stream",
     "text": [
      "c-2.000o-1.500 does not have a dict.csv file\n",
      "c-2.000o-2.125 does not have a dict.csv file\n",
      "c-2.000o-2.750 does not have a dict.csv file\n",
      "c-2.000o-3.375 does not have a dict.csv file\n",
      "c-2.000o-4.000 does not have a dict.csv file\n",
      "c-2.000o-4.625 does not have a dict.csv file\n",
      "c-2.000o-5.250 does not have a dict.csv file\n",
      "c-2.000o-5.875 does not have a dict.csv file\n",
      "c-2.000o-6.500 does not have a dict.csv file\n",
      "c-2.688o-1.500 does not have a dict.csv file\n",
      "c-2.688o-2.125 does not have a dict.csv file\n",
      "c-2.688o-2.750 does not have a dict.csv file\n",
      "c-2.688o-3.375 does not have a dict.csv file\n",
      "c-2.688o-4.000 does not have a dict.csv file\n",
      "c-2.688o-4.625 does not have a dict.csv file\n",
      "c-2.688o-5.250 does not have a dict.csv file\n",
      "c-2.688o-5.875 does not have a dict.csv file\n",
      "c-2.688o-6.500 does not have a dict.csv file\n",
      "c-3.375o-1.500 does not have a dict.csv file\n",
      "c-3.375o-2.125 does not have a dict.csv file\n",
      "c-3.375o-2.750 does not have a dict.csv file\n",
      "c-3.375o-3.375 does not have a dict.csv file\n",
      "c-3.375o-4.000 does not have a dict.csv file\n",
      "c-3.375o-4.625 does not have a dict.csv file\n",
      "c-3.375o-5.250 does not have a dict.csv file\n",
      "c-3.375o-5.875 does not have a dict.csv file\n",
      "c-3.375o-6.500 does not have a dict.csv file\n",
      "c-4.062o-1.500 does not have a dict.csv file\n",
      "c-4.062o-2.125 does not have a dict.csv file\n",
      "c-4.062o-2.750 does not have a dict.csv file\n",
      "c-4.062o-3.375 does not have a dict.csv file\n",
      "c-4.062o-4.000 does not have a dict.csv file\n",
      "c-4.062o-4.625 does not have a dict.csv file\n",
      "c-4.062o-5.250 does not have a dict.csv file\n",
      "c-4.062o-5.875 does not have a dict.csv file\n",
      "c-4.062o-6.500 does not have a dict.csv file\n",
      "c-4.750o-1.500 does not have a dict.csv file\n",
      "c-4.750o-2.125 does not have a dict.csv file\n",
      "c-4.750o-2.750 does not have a dict.csv file\n",
      "c-4.750o-3.375 does not have a dict.csv file\n",
      "c-4.750o-4.000 does not have a dict.csv file\n",
      "c-4.750o-4.625 does not have a dict.csv file\n",
      "c-4.750o-5.250 does not have a dict.csv file\n",
      "c-4.750o-5.875 does not have a dict.csv file\n",
      "c-4.750o-6.500 does not have a dict.csv file\n",
      "c-5.438o-1.500 does not have a dict.csv file\n",
      "c-5.438o-2.125 does not have a dict.csv file\n",
      "c-5.438o-2.750 does not have a dict.csv file\n",
      "c-5.438o-3.375 does not have a dict.csv file\n",
      "c-5.438o-4.000 does not have a dict.csv file\n",
      "c-5.438o-4.625 does not have a dict.csv file\n",
      "c-5.438o-5.250 does not have a dict.csv file\n",
      "c-5.438o-5.875 does not have a dict.csv file\n",
      "c-5.438o-6.500 does not have a dict.csv file\n",
      "c-6.125o-1.500 does not have a dict.csv file\n",
      "c-6.125o-2.125 does not have a dict.csv file\n",
      "c-6.125o-2.750 does not have a dict.csv file\n",
      "c-6.125o-3.375 does not have a dict.csv file\n",
      "c-6.125o-4.000 does not have a dict.csv file\n",
      "c-6.125o-4.625 does not have a dict.csv file\n",
      "c-6.125o-5.250 does not have a dict.csv file\n",
      "c-6.125o-5.875 does not have a dict.csv file\n",
      "c-6.125o-6.500 does not have a dict.csv file\n",
      "c-6.812o-1.500 does not have a dict.csv file\n",
      "c-6.812o-2.125 does not have a dict.csv file\n",
      "c-6.812o-2.750 does not have a dict.csv file\n",
      "c-6.812o-3.375 does not have a dict.csv file\n",
      "c-6.812o-4.000 does not have a dict.csv file\n",
      "c-6.812o-4.625 does not have a dict.csv file\n",
      "c-6.812o-5.250 does not have a dict.csv file\n",
      "c-6.812o-5.875 does not have a dict.csv file\n",
      "c-6.812o-6.500 does not have a dict.csv file\n",
      "c-7.500o-1.500 does not have a dict.csv file\n",
      "c-7.500o-2.125 does not have a dict.csv file\n",
      "c-7.500o-2.750 does not have a dict.csv file\n",
      "c-7.500o-3.375 does not have a dict.csv file\n",
      "c-7.500o-4.000 does not have a dict.csv file\n",
      "c-7.500o-4.625 does not have a dict.csv file\n",
      "c-7.500o-5.250 does not have a dict.csv file\n",
      "c-7.500o-5.875 does not have a dict.csv file\n",
      "c-7.500o-6.500 does not have a dict.csv file\n"
     ]
    }
   ],
   "source": [
    "# smoosh all csv files together\n",
    "array = os.listdir('./linearscaling/')\n",
    "array = sorted(array)\n",
    "\n",
    "reactions = []\n",
    "num_surf_reactions = []\n",
    "times = []\n",
    "count = 1\n",
    "c_s = []\n",
    "o_s = []\n",
    "for x in array:\n",
    "    _, c, o = x.split(\"-\")\n",
    "    c = c[:-1]\n",
    "    c = -1 *float(c)\n",
    "    o = -1* float(o)\n",
    "    c_s.append(c)\n",
    "    o_s.append(o)\n",
    "    try:\n",
    "        data = pd.read_csv('./linearscaling/' + x + '/dict.csv', header=None)\n",
    "        \n",
    "        time = float(open(os.path.join('linearscaling',x,'time.txt')).read())\n",
    "        times.append(time)\n",
    "        \n",
    "        # get the reactions\n",
    "        rxns = []\n",
    "        n = []\n",
    "        for y in data[1]:\n",
    "            rxns.append(y)\n",
    "        for y in data[2]:\n",
    "            n.append([y])\n",
    "        zipped = zip(rxns,n)\n",
    "        zipped = [list(z) for z in zipped]\n",
    "        #counting number of surface reactions in each \n",
    "        num_surf_reactions.append(len(zipped))\n",
    "#         if reactions == []:\n",
    "#             reactions = zipped\n",
    "\n",
    "        if count is 1:\n",
    "            reactions = zipped\n",
    "        else:\n",
    "            # add the reactions that already have a match\n",
    "            for rxn in reactions:\n",
    "                for a in zipped:\n",
    "                    if a[0] == rxn[0]:\n",
    "                        rxn[1].append(a[1][0])\n",
    "                        zipped.remove(a)\n",
    "            # add 0s to the reactions that don't occur in this model\n",
    "            for f in reactions:\n",
    "                if len(f[1]) is not count:\n",
    "                    f[1].append(1E-19)\n",
    "            # add the new reactions\n",
    "            for a in zipped:\n",
    "                if len(a[1]) is not count:\n",
    "                    zeros = [1E-19] * (count - len(a[1]))\n",
    "                    a[1] = zeros + a[1]\n",
    "                    reactions.append(a)\n",
    "        count += 1\n",
    "    except:\n",
    "        print '%s does not have a dict.csv file'%(x)\n",
    "        if reactions == []:\n",
    "            if count is 1:\n",
    "                reactions = [['placeholder',[1E-19]]]\n",
    "        else:\n",
    "            for f in reactions:\n",
    "                if len(f[1]) is not count:\n",
    "                    f[1].append(1E-19)\n",
    "        count += 1\n",
    "        times.append(1e19)\n",
    "              \n",
    "# for s in reactions:\n",
    "#     print s\n",
    "del reactions[0]"
   ]
  },
  {
   "cell_type": "code",
   "execution_count": 6,
   "metadata": {
    "collapsed": true
   },
   "outputs": [],
   "source": [
    "# For close packed surfaces from\n",
    "# Abild-Pedersen, F.; Greeley, J.; Studt, F.; Rossmeisl, J.; Munter, T. R.; Moses, P. G.; Skúlason, E.; Bligaard, T.; Norskov, J. K. Scaling Properties of Adsorption Energies for Hydrogen-Containing Molecules on Transition-Metal Surfaces. Phys. Rev. Lett. 2007, 99 (1), 016105 DOI: 10.1103/PhysRevLett.99.016105.\n",
    "abildpedersen_energies = { # Carbon, then Oxygen\n",
    "'Ru': ( -6.397727272727272, -5.104763568600047),\n",
    "'Rh': ( -6.5681818181818175, -4.609771721406942),\n",
    "'Ni': ( -6.045454545454545, -4.711681807593758),\n",
    "'Ir': ( -6.613636363636363, -5.94916142557652),\n",
    "'Pd': ( -6, -3.517877940833916),\n",
    "'Pt': ( -6.363636363636363, -3.481481481481482),\n",
    "'Cu': ( -4.159090909090907, -3.85272536687631),\n",
    "'Ag': ( -2.9545454545454533, -2.9282552993244817),\n",
    "'Au': ( -3.7499999999999973, -2.302236198462614),\n",
    "}"
   ]
  },
  {
   "cell_type": "code",
   "execution_count": 7,
   "metadata": {
    "collapsed": true
   },
   "outputs": [],
   "source": [
    "cmap = plt.get_cmap(\"Spectral_r\")\n",
    "# cmap = plt.get_cmap(\"bwr_r\") #  blue-(white)-red\n",
    "cmap.set_bad(color='k', alpha=None)\n",
    "cmaplist = list(map(cmap,range(256)))\n",
    "cmaplist[0]=(0,0,0,0.3)\n",
    "newcmap = cmap.from_list('newcmap',cmaplist, N=256)\n",
    "cmap = newcmap"
   ]
  },
  {
   "cell_type": "code",
   "execution_count": 8,
   "metadata": {},
   "outputs": [
    {
     "data": {
      "image/png": "[encoded data removed]",
      "text/plain": [
       "<Figure size 432x288 with 2 Axes>"
      ]
     },
     "metadata": {
      "needs_background": "light"
     },
     "output_type": "display_data"
    }
   ],
   "source": [
    "df = pd.DataFrame(index=np.unique(o_s), columns=np.unique(c_s))\n",
    "for c, o, t in zip(c_s, o_s, times):\n",
    "    df[c][o] = t\n",
    "    \n",
    "a = []\n",
    "for i in df.values: \n",
    "    a = a + list(i)\n",
    "\n",
    "times = np.array(times)\n",
    "rates = 1./np.array(a)\n",
    "\n",
    "rates_grid = np.reshape(rates, (grid_size,grid_size))\n",
    "\n",
    "#ax = sns.heatmap(sensitivities_grid, cmap=\"Spectral\")\n",
    "\n",
    "plt.imshow(rates_grid, interpolation='spline16', origin='lower', \n",
    "           extent=extent2, aspect='equal', cmap=cmap,)\n",
    "for metal, coords in abildpedersen_energies.iteritems():\n",
    "    color = {'Ag':'k','Au':'k','Cu':'k'}.get(metal,'k')\n",
    "    plt.plot(coords[0], coords[1], 'o'+color)\n",
    "    plt.text(coords[0], coords[1], metal, color=color)\n",
    "plt.xlim(carbon_range)\n",
    "plt.ylim(oxygen_range)\n",
    "plt.xlabel('$\\Delta E^C$ (eV)')\n",
    "plt.ylabel('$\\Delta E^O$ (eV)')\n",
    "plt.title(\"Overall rates\")\n",
    "plt.colorbar()\n",
    "plt.show()\n",
    "\n",
    "# matplotlib.rcParams['figure.figsize'] = [10, 10]\n",
    "# matplotlib.rcParams['figure.titlesize']\n",
    "matplotlib.rcParams['figure.dpi'] = 500"
   ]
  },
  {
   "cell_type": "code",
   "execution_count": 9,
   "metadata": {},
   "outputs": [],
   "source": [
    "cmap = plt.get_cmap(\"Spectral_r\")\n",
    "# cmap = plt.get_cmap(\"bwr_r\") #  blue-(white)-red\n",
    "cmap.set_bad(color='k', alpha=None)\n",
    "cmaplist = list(map(cmap,range(256)))\n",
    "cmaplist[128]=cmaplist[127]=cmaplist[129]=(0,0,0,0.3)\n",
    "newcmap = cmap.from_list('newcmap',cmaplist, N=256)\n",
    "cmap = newcmap"
   ]
  },
  {
   "cell_type": "code",
   "execution_count": 10,
   "metadata": {
    "scrolled": false
   },
   "outputs": [],
   "source": [
    "for rxn in reactions:\n",
    "    sensitivities = rxn[1]\n",
    "    \n",
    "    sensitivities = np.array(sensitivities)\n",
    "    if sum(abs(sensitivities)>1e-9) < 5:\n",
    "        print \"skipping {} because it's boring\".format(rxn[0])\n",
    "        continue\n",
    "    MAX = 5\n",
    "    #log_sensitivities = np.log10(abs(sensitivities))\n",
    "    #a = np.log10(abs(sensitivities)) + MAX\n",
    "    #log_sensitivities = a * (a>0) * (1-2*(sensitivities<0) )\n",
    "    df = pd.DataFrame(index=np.unique(o_s), columns=np.unique(c_s))\n",
    "    for c, o, s in zip(c_s, o_s, sensitivities):\n",
    "        df[c][o] = s\n",
    "\n",
    "    a = []\n",
    "    for i in df.values: \n",
    "        a = a + list(i)\n",
    "\n",
    "    sensitivities = np.array(a)\n",
    "    \n",
    "    sensitivities_grid = np.reshape(sensitivities, (grid_size,grid_size))\n",
    "    \n",
    "\n",
    "    #ax = sns.heatmap(sensitivities_grid, cmap=\"Spectral\")\n",
    "    MAX = np.max(abs(sensitivities_grid))\n",
    "    \n",
    "    # cmap = plt.get_cmap(\"Spectral_r\")\n",
    "\n",
    "    # make the 1e-19 cells go to infinity (bad)\n",
    "    #sensitivities_grid = sensitivities_grid / (1.0-(sensitivities_grid==1e-19))\n",
    "    # interpolation: spline16\n",
    "    plt.imshow(sensitivities_grid, interpolation='gaussian', origin='lower', \n",
    "               extent=extent2, aspect='equal', cmap=cmap,\n",
    "              vmin=-1*MAX, vmax=MAX)\n",
    "    \n",
    "    for metal, coords in abildpedersen_energies.iteritems():\n",
    "        color = {'Ag':'k','Au':'k','Cu':'k'}.get(metal,'k')\n",
    "        plt.plot(coords[0], coords[1], 'o'+color)\n",
    "        plt.text(coords[0], coords[1], metal, color=color)\n",
    "    plt.xlim(carbon_range)\n",
    "    plt.ylim(oxygen_range)\n",
    "    plt.xlabel('$\\Delta E^C$ (eV)')\n",
    "    plt.ylabel('$\\Delta E^O$ (eV)')\n",
    "    plt.title(rxn[0].replace('[Ni]','$\\star$')\\\n",
    "                    .replace('[O][O]','O$_2$'))\n",
    "    plt.colorbar()\n",
    "    plt.show()\n",
    "    \n",
    "    matplotlib.rcParams['figure.dpi'] = 500\n",
    "    \n"
   ]
  },
  {
   "cell_type": "code",
   "execution_count": 11,
   "metadata": {
    "collapsed": true
   },
   "outputs": [],
   "source": [
    "# Plot the number of surface reactions\n",
    "# num_surf_reactions\n",
    "\n",
    "# reaction_counts_grid = np.log10(np.reshape(num_surf_reactions, (grid_size,grid_size)))\n",
    "# plt.imshow(reaction_counts_grid.T, interpolation='none', origin='lower', extent=extent2, aspect='equal')\n",
    "# plt.xlim(carbon_range2)\n",
    "# plt.ylim(oxygen_range2)\n",
    "# plt.xlabel('$\\Delta E^C$ (eV)')\n",
    "# plt.ylabel('$\\Delta E^O$ (eV)')\n",
    "# for e,n in zip(experiments,num_surf_reactions):\n",
    "#     plt.text(e[0],e[1],n,color='w',ha='center', va='center')\n",
    "# plt.colorbar()"
   ]
  },
  {
   "cell_type": "code",
   "execution_count": 12,
   "metadata": {
    "collapsed": true
   },
   "outputs": [],
   "source": [
    "# A linear one, just to check it looks the same\n",
    "# reaction_counts_grid = np.reshape(num_surf_reactions, (grid_size,grid_size))\n",
    "# ax = sns.heatmap(reaction_counts_grid.T[::-1,:], annot=True, fmt='d', square=True)"
   ]
  },
  {
   "cell_type": "code",
   "execution_count": 13,
   "metadata": {
    "collapsed": true
   },
   "outputs": [],
   "source": []
  }
 ],
 "metadata": {
  "kernelspec": {
   "display_name": "Python 2",
   "language": "python",
   "name": "python2"
  },
  "language_info": {
   "codemirror_mode": {
    "name": "ipython",
    "version": 2
   },
   "file_extension": ".py",
   "mimetype": "text/x-python",
   "name": "python",
   "nbconvert_exporter": "python",
   "pygments_lexer": "ipython2",
   "version": "2.7.16"
  }
 },
 "nbformat": 4,
 "nbformat_minor": 2
}
